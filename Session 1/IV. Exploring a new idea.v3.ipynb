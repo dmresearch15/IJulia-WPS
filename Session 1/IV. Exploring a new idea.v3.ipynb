{
 "metadata": {
  "celltoolbar": "Slideshow",
  "kernelspec": {
   "display_name": "Julia",
   "name": "julia"
  },
  "language": "Julia",
  "language_info": {
   "name": "julia",
   "version": "0.3.5"
  },
  "name": ""
 },
 "nbformat": 3,
 "nbformat_minor": 0,
 "worksheets": [
  {
   "cells": [
    {
     "cell_type": "markdown",
     "metadata": {
      "slideshow": {
       "slide_type": "skip"
      }
     },
     "source": [
      "This notebook shows how to quickly generate a slideshow from a set of cells. This can be a great way to share your ideas with others as they are being formed.\n",
      "\n",
      "The IJulia notebook has a drop-down menu called \"Cell Toolbar\". You can use this toolbar to assign some slideshow function to each cell. This cell is set to \"Skip\" -- it will not show up when the notebook is converted to a slideshow. There are several other settings:\n",
      "\n",
      "* **Slide**: a top-level slide in the deck\n",
      "* **Sub-Slide**: a slide nested beneath the nearest top-level slide\n",
      "* **Fragment**: a piece of a slide that appears after the previous slide or fragment\n",
      "* **Notes**: a slide containing material you would like available as the speaker (reveal.js supports separate speaker and audience views)\n",
      "\n",
      "You can convert a notebook into slides by running the following code cell. This will generate an html file that may be rendered as a slideshow by [reveal.js][1].\n",
      "\n",
      "[1]: http://lab.hakim.se/reveal-js/#/"
     ]
    },
    {
     "cell_type": "code",
     "collapsed": false,
     "input": [
      "# Generate slideshow from this notebook:\n",
      "run(`ipython nbconvert IV.\\ Exploring\\ a\\ new\\ idea.v3.ipynb --to slides`)"
     ],
     "language": "python",
     "metadata": {
      "slideshow": {
       "slide_type": "skip"
      }
     },
     "outputs": [],
     "prompt_number": null
    },
    {
     "cell_type": "heading",
     "level": 1,
     "metadata": {
      "slideshow": {
       "slide_type": "slide"
      }
     },
     "source": [
      "Current magnitude constraints"
     ]
    },
    {
     "cell_type": "heading",
     "level": 2,
     "metadata": {
      "slideshow": {
       "slide_type": "slide"
      }
     },
     "source": [
      "Derivation"
     ]
    },
    {
     "cell_type": "markdown",
     "metadata": {
      "slideshow": {
       "slide_type": "subslide"
      }
     },
     "source": [
      "Let's derive the expression for a current flow constraint.\n",
      "\n",
      "$$\\begin{align}\n",
      "\\lvert I_{ik} \\rvert &\\leq I_{ik}^{max} \\\\\n",
      "\\lvert I_{ik} \\rvert^2 &\\leq (I_{ik}^{max})^2 \\\\\n",
      "[Re( I_{ik} )]^2 + [Im( I_{ik} )]^2 &\\leq (I_{ik}^{max})^2 \\\\\n",
      "\\end{align}$$"
     ]
    },
    {
     "cell_type": "markdown",
     "metadata": {
      "slideshow": {
       "slide_type": "fragment"
      }
     },
     "source": [
      "Next we expand the real and imaginary parts of line current $I_{ik}$:\n",
      "\n",
      "$$\\begin{align}\n",
      "Re( I_{ik} ) &= G_{ik}[Re(E_i) - Re(E_k)] - B_{ik}[Im(E_i) - Im(E_k)] \\\\\n",
      "Im( I_{ik} ) &= B_{ik}[Re(E_i) - Re(E_k)] + G_{ik}[Im(E_i) - Im(E_k)] \\\\\n",
      "\\end{align}$$"
     ]
    },
    {
     "cell_type": "markdown",
     "metadata": {
      "slideshow": {
       "slide_type": "fragment"
      }
     },
     "source": [
      "Here we make our first assumption, zero line resistance:\n",
      "\n",
      "$$\\begin{align}\n",
      "Z_{ik} &= r_{ik} + jx_{ik} \\\\\n",
      "Y_{ik} = G_{ik} + jB_{ik} &= z_{ik}^{-1} \\\\\n",
      "r_{ik} = 0 \\implies Y_{ik} &= 0 - j\\frac{1}{x_{ik}}\n",
      "\\end{align}$$"
     ]
    },
    {
     "cell_type": "markdown",
     "metadata": {
      "slideshow": {
       "slide_type": "fragment"
      }
     },
     "source": [
      "Since $G_{ik}=0$ by assumption, we can simplify the expressions for real and imaginary currents:\n",
      "\n",
      "$$\\begin{align}\n",
      "Re( I_{ik} ) &\\approxeq - B_{ik}[Im(E_i) - Im(E_k)] \\\\\n",
      "Im( I_{ik} ) &\\approxeq B_{ik}[Re(E_i) - Re(E_k)] \\\\\n",
      "\\end{align}$$"
     ]
    },
    {
     "cell_type": "markdown",
     "metadata": {
      "slideshow": {
       "slide_type": "subslide"
      }
     },
     "source": [
      "Square both expressions and add them together:\n",
      "\n",
      "$$\\begin{align}\n",
      "Re( I_{ik} )^2 &= B_{ik}^2[Im(E_i) - Im(E_k)]^2 \\\\\n",
      "Im( I_{ik} )^2 &= B_{ik}^2[Re(E_i) - Re(E_k)]^2 \\\\\n",
      "\\lvert I_{ik} \\rvert^2 = Re( I_{ik} )^2 + Im( I_{ik} )^2 &= B_{ik}^2[\\left( Im(E_i) - Im(E_k) \\right)^2 + \\left( Re(E_i) - Re(E_k) \\right)^2]\n",
      "\\end{align}$$"
     ]
    },
    {
     "cell_type": "markdown",
     "metadata": {
      "slideshow": {
       "slide_type": "fragment"
      }
     },
     "source": [
      "Simplify:\n",
      "\n",
      "$$\\begin{align}\n",
      "\\lvert I_{ik} \\rvert^2 &= B_{ik}^2[\\left( Im(E_i) - Im(E_k) \\right)^2 + \\left( Re(E_i) - Re(E_k) \\right)^2] \\\\\n",
      "&= B_{ik} \\left[ Re(E_i)^2 + Im(E_i)^2 + Re(V_k)^2 + Im(V_k)^2 -2\\left( Re(V_i)Re(V_k) + Im(V_i)Im(V_k) \\right) \\right] \\\\\n",
      "&= B_{ik} \\left[ V_i^2 + V_k^2 -2V_iV_k\\left( \\sin\\theta_i\\sin\\theta_k + \\cos\\theta_i\\cos\\theta_k \\right) \\right] \\\\\n",
      "\\lvert I_{ik} \\rvert^2 &= B_{ik} \\left( V_i^2 + V_k^2 - 2V_iV_k\\cos\\theta_{ik} \\right),\\quad \\theta_{ik} = \\theta_i - \\theta_k\n",
      "\\end{align}$$"
     ]
    },
    {
     "cell_type": "heading",
     "level": 2,
     "metadata": {
      "slideshow": {
       "slide_type": "slide"
      }
     },
     "source": [
      "Plotting results"
     ]
    },
    {
     "cell_type": "markdown",
     "metadata": {
      "slideshow": {
       "slide_type": "subslide"
      }
     },
     "source": [
      "Now we have an expression for the squared current magnitude on a line assuming the line's resistance is zero. How good is this assumption? Let's make a function to plot both the full and approximate current expressions on the same chart. \n",
      "\n",
      "Since line current is a function of two voltage magnitudes, two voltage angles, and the two components of admittance ($G_{ik}$ and $B_{ik}$), there are many ways we could plot it. I have written functions to plot the following:\n",
      "\n",
      "1. current magnitude, in pu, against voltage angle difference\n",
      "2. current magnitude, in pu, against voltage magnitude difference"
     ]
    },
    {
     "cell_type": "markdown",
     "metadata": {
      "slideshow": {
       "slide_type": "fragment"
      }
     },
     "source": [
      " Let's do (1) first, and initially assume resistance is 0 (and therefore $G_{ik}=0$)."
     ]
    },
    {
     "cell_type": "code",
     "collapsed": false,
     "input": [
      "(Vi,Vk,Gik,Bik) = (1.1,0.9,0,-4)\n",
      "plotCurrent\u03b8(Vi,Vk,Gik,Bik);"
     ],
     "language": "python",
     "metadata": {
      "slideshow": {
       "slide_type": "subslide"
      }
     },
     "outputs": [],
     "prompt_number": null
    },
    {
     "cell_type": "markdown",
     "metadata": {
      "slideshow": {
       "slide_type": "fragment"
      }
     },
     "source": [
      "A complete overlap. Notice that both functions are convex.\n",
      "\n",
      "Now let's introduce non-zero resistance. A typical line has $\\lvert B_{ik}/G_{ik} \\rvert \\approx 4$, so let's plot that case:"
     ]
    },
    {
     "cell_type": "code",
     "collapsed": false,
     "input": [
      "(Vi,Vk,Gik,Bik) = (1.1,0.9,1,-4)\n",
      "plotCurrent\u03b8(Vi,Vk,Gik,Bik);"
     ],
     "language": "python",
     "metadata": {
      "slideshow": {
       "slide_type": "subslide"
      }
     },
     "outputs": [],
     "prompt_number": null
    },
    {
     "cell_type": "markdown",
     "metadata": {
      "slideshow": {
       "slide_type": "fragment"
      }
     },
     "source": [
      "The approximate function still does a good job for small angle differences; not so much for larger ones."
     ]
    },
    {
     "cell_type": "markdown",
     "metadata": {
      "slideshow": {
       "slide_type": "subslide"
      }
     },
     "source": [
      "Now let's make some plots of type (2). Again, let's begin with resistance set to zero:"
     ]
    },
    {
     "cell_type": "code",
     "collapsed": false,
     "input": [
      "(\u03b8i,\u03b8k,Gik,Bik) = (0,0.2,0,-4)\n",
      "plotCurrentV(\u03b8i,\u03b8k,Gik,Bik);"
     ],
     "language": "python",
     "metadata": {
      "slideshow": {
       "slide_type": "fragment"
      }
     },
     "outputs": [],
     "prompt_number": null
    },
    {
     "cell_type": "markdown",
     "metadata": {
      "slideshow": {
       "slide_type": "fragment"
      }
     },
     "source": [
      "A perfect match. Now let's introduce some resistance:"
     ]
    },
    {
     "cell_type": "code",
     "collapsed": false,
     "input": [
      "(\u03b8i,\u03b8k,Gik,Bik) = (0,0.2,1,-4)\n",
      "plotCurrentV(\u03b8i,\u03b8k,Gik,Bik);"
     ],
     "language": "python",
     "metadata": {
      "slideshow": {
       "slide_type": "subslide"
      }
     },
     "outputs": [],
     "prompt_number": null
    },
    {
     "cell_type": "markdown",
     "metadata": {
      "slideshow": {
       "slide_type": "fragment"
      }
     },
     "source": [
      "Non-zero resistance adds significantly to the line current magnitude. Since the approximate line current expression neglects resistance, it tells us there is less current on the line than there actually is."
     ]
    },
    {
     "cell_type": "markdown",
     "metadata": {
      "slideshow": {
       "slide_type": "subslide"
      }
     },
     "source": [
      "So why use an approximation that still falls short of the exact current expression? Well for one thing, the exact expression requires us to accommodate resistance throughout our analysis. It would make no sense to assume resistance is zero in the power balance equations while allowing non-zero resistance in current constraints. More importantly, though, our approximate current flow expression captures the effects of voltage magnitude differences. In contrast, the DC approximation assumes all voltages are 1 pu and therefore have no effect on line currents (since there are no angle differences to produce reactive power flow). Let's see what that looks like:"
     ]
    },
    {
     "cell_type": "code",
     "collapsed": false,
     "input": [
      "(\u03b8i,\u03b8k,Gik,Bik) = (0,0.2,1,-4)\n",
      "plotCurrentDC(\u03b8i,\u03b8k,Gik,Bik);"
     ],
     "language": "python",
     "metadata": {
      "slideshow": {
       "slide_type": "subslide"
      }
     },
     "outputs": [],
     "prompt_number": null
    },
    {
     "cell_type": "markdown",
     "metadata": {
      "slideshow": {
       "slide_type": "fragment"
      }
     },
     "source": [
      "The DC approximation consistently understimates line current magnitude. When the voltage magnitude difference between two buses is significant, this underestimation is severe.\n",
      "\n",
      "What does this mean for the linear instanton problem? It means that lines may become saturated more quickly than linear instanton analysis indicates. **Any line with a significant voltage magnitude difference across it is more vulnerable than linear instanton analysis tells us.**"
     ]
    },
    {
     "cell_type": "heading",
     "level": 2,
     "metadata": {
      "slideshow": {
       "slide_type": "slide"
      }
     },
     "source": [
      "Code implications"
     ]
    },
    {
     "cell_type": "markdown",
     "metadata": {
      "slideshow": {
       "slide_type": "subslide"
      }
     },
     "source": [
      "Our expression for magnitude has a cosine in it, but we can easily solve for the angle difference:\n",
      "\n",
      "$$\\begin{align}\n",
      "\\lvert I_{ik}^2 \\rvert &\\approxeq \\frac{V_i^2 + V_k^2 - 2V_iV_k\\cos \\theta_{ik}}{x_{ik}^2} \\\\\n",
      "\\implies \\theta_i - \\theta_k &= \\cos^{-1}\\left( \\frac{V_i^2 + V_k^2 - (\\lvert I_{ik}^{lim} \\rvert x_{ik})^2}{2V_iV_k} \\right)\n",
      "\\end{align}$$"
     ]
    },
    {
     "cell_type": "markdown",
     "metadata": {
      "slideshow": {
       "slide_type": "fragment"
      }
     },
     "source": [
      "Compare this constraint to the one used in the DC instanton problem:\n",
      "\n",
      "    @addConstraint(m, Congestion, \u03b8[i] - \u03b8[k] == sense*x[idx]*Plim[idx])\n",
      "    \n",
      "    @addConstraint(m, Congestion, \u03b8[i] - \u03b8[k] == sense*acos((Vi^2 + Vk^2 - (Plim[idx]*x[idx])^2)/(2Vi*Vk)))\n",
      "    \n",
      "More complicated expression, but still just setting angle difference equal to constant."
     ]
    },
    {
     "cell_type": "markdown",
     "metadata": {
      "slideshow": {
       "slide_type": "subslide"
      }
     },
     "source": [
      "Unfortunately, our expression for current magnitude has a cosine in it. This will not play well with the solver, so we need to substitute a piecewise-linear approximation for $\\cos\\theta_{ik}$. This is where Appendix A of Coffrin's unpublished paper comes in handy. Suppose we want to replace cosine with $s$ linear constraints. So long as the angle difference lies in the range $(-\\pi/2,\\pi/2)$, we can use the following procedure to obtain the following set of tangent lines:\n",
      "\n",
      "1. Given $l$, $h$ (lower and upper bound of range), and a number of desired segments $s$, compute increment as $inc=\\frac{h-l}{s+1}$.\n",
      "2. Let $a=l+inc$.\n",
      "3. for $i=1,\\ldots,s$:\n",
      "$$\\begin{align}\n",
      "f_a &= \\cos a \\\\\n",
      "s_a &= -\\sin a \\\\\n",
      "x_{\\hat{cos}} &\\leq s_ax - s_aa + f_a \\\\\n",
      "a = a+inc\n",
      "\\end{align}$$\n",
      "\n",
      "This gives us a set of linear inequality constraints $x_{\\hat{cos}}$ of the form\n",
      "$$\\begin{align}\n",
      "y &\\leq \\sin(a)(\\theta_{ik} - a) + \\cos(a)~,\n",
      "\\end{align}$$\n",
      "with $a$ spaced evenly between $l$ and $h$."
     ]
    },
    {
     "cell_type": "heading",
     "level": 2,
     "metadata": {
      "slideshow": {
       "slide_type": "slide"
      }
     },
     "source": [
      "New Julia function"
     ]
    },
    {
     "cell_type": "code",
     "collapsed": true,
     "input": [
      "function solver_currentFlow_droop(psDL)\n",
      "    # This function uses MOSEK to perform instanton analysis for the case with conventional generator droop resopnse.\n",
      "\n",
      "    # unpack psDL (boilerplate):\n",
      "    (Sb,f,t,r,x,b,Y,bustype,\n",
      "    Gp,Gq,Dp,Dq,Rp,Rq,\n",
      "    Pmax,Pmin,Qmax,Qmin,Plim,\n",
      "    Vg,Vceiling,Vfloor,\n",
      "        busIdx,N,Nr,Ng,k) = unpack_psDL(psDL)\n",
      "\n",
      "    score = Float64[]\n",
      "    rho = Array(Vector{Float64},0) # array of vectors with Float64 values\n",
      "    Gpost = Array(Vector{Float64},0) # array of vectors with Float64 values\n",
      "    theta = Array(Vector{Float64},0) # array of vectors with Float64 values\n",
      "    alpha = Float64[]\n",
      "\n",
      "    result = Symbol[]\n",
      "\n",
      "    # Enforce each constraint in the f --> t direction\n",
      "    for idx = 1:length(f)\n",
      "        (m, \u03c1, \u03b8, \u03b1, PowerBalance, AngleRef, Congestion, Participation) = droopCurrentModel(idx, 1, Rp, Gp, Dp, f, t, x, Y, bustype, Plim,k,Vg)\n",
      "        status = solve(m);\n",
      "        push!(score, getObjectiveValue(m))\n",
      "        push!(result,status)\n",
      "        push!(theta, getValue(\u03b8)[:])\n",
      "        push!(alpha, getValue(\u03b1))\n",
      "        push!(rho,getValue(\u03c1)[:])\n",
      "  \n",
      "        # Compute conventional generation post-instanton:\n",
      "        push!(Gpost, Gp + k.*getValue(\u03b1))\n",
      "    end\n",
      "\n",
      "    # Enforce each constraint in the t --> f direction\n",
      "    for idx = 1:length(f)\n",
      "        (m, \u03c1, \u03b8, \u03b1, PowerBalance, AngleRef, Congestion, Participation) = droopCurrentModel(idx, -1, Rp, Gp, Dp, f, t, x, Y, bustype, Plim,k,Vg)\n",
      "        status = solve(m);\n",
      "        push!(score, getObjectiveValue(m))\n",
      "        push!(result, status)\n",
      "        push!(theta, getValue(\u03b8)[:])\n",
      "        push!(alpha, getValue(\u03b1))\n",
      "        push!(rho, getValue(\u03c1)[:])\n",
      "\n",
      "        # Compute conventional generation post-instanton:\n",
      "        push!(Gpost, Gp + k.*getValue(\u03b1))\n",
      "    end\n",
      "\n",
      "    # Generate strings to tell user which constraint was violated:\n",
      "    constrIdx = String[]\n",
      "    for i = 1:2length(f)\n",
      "        if i <= length(f)\n",
      "            push!(constrIdx, \"activeFlow: $(f[i]) -> $(t[i]) @ $(Plim[i])\")\n",
      "        else\n",
      "            i2 = i - length(f)\n",
      "            push!(constrIdx, \"activeFlow: $(t[i2]) -> $(f[i2]) @ $(Plim[i2])\")\n",
      "        end\n",
      "    end\n",
      "\n",
      "    rankedList = sortrows([zero2NaN(score) [rho theta alpha constrIdx Gpost]]) # sort candidates; place NaNs at bottom\n",
      "\n",
      "    # Pack results into instance of \"instantonResults\":\n",
      "    return instantonResults(rankedList[:,1],rankedList[:,2],rankedList[:,3],rankedList[:,4],rankedList[:,5],rankedList[:,6])\n",
      "end\n",
      "\n",
      "function droopCurrentModel(idx, sense, Rp, Gp, Dp, f, t, x, Y, bustype, Plim,k, Vg)\n",
      "    # 7-29-14\n",
      "    # DROOP RESPONSE\n",
      "    # Create model saturating line 'idx' in direction 'sense' (\u00b11)\n",
      "    # This function uses JuMP and Mosek\n",
      "    # Line current constraints\n",
      "    \n",
      "    m = Model(solver = MosekSolver()) # Use MOSEK to solve model\n",
      "    N = length(Rp)\n",
      "    @defVar(m, \u03c1[1:N] >= 0) # Add decision variables to model (renewable gen)\n",
      "    @defVar(m, \u03b8[1:N]) # Add bus angles\n",
      "    @defVar(m, \u03b1) # mismatch parameter\n",
      "    setObjective(m, :Min, 0.5*sum([(\u03c1[i] - Rp[i])^2 for i in find(Rp)]))\n",
      "\n",
      "    # add power balance constraints:\n",
      "    @defConstrRef PowerBalance[1:N]\n",
      "    for i in setdiff(1:N,find(bustype.==3))\n",
      "        PowerBalance[i] = @addConstraint(m, sum([Y[i,j]*\u03b8[j] for j in 1:N]) == Gp[i] + k[i]*\u03b1 + \u03c1[i] - Dp[i])\n",
      "    end\n",
      "\n",
      "    # wind output must be 0 at non-wind buses:\n",
      "    @addConstraint(m, NonWind, sum([\u03c1[i] for i in setdiff(collect(1:N),find(Rp))]) == 0)\n",
      "\n",
      "    # angle reference bus must have angle 0:\n",
      "    @addConstraint(m, AngleRef, \u03b8[find(bustype.==3)[1]] == 0)\n",
      " \n",
      "    # 'i' is f[idx]\n",
      "    # 'k' is t[idx]\n",
      "    #i = f[idx]\n",
      "    #k = t[idx]\n",
      "\n",
      "    Vi = Vg[f[idx]]\n",
      "    Vk = Vg[t[idx]]\n",
      "\n",
      "    # saturate a line (current constraint):\n",
      "    @addConstraint(m, Congestion, \u03b8[f[idx]] - \u03b8[t[idx]] == sense*acos((Vi^2 + Vk^2 - (Plim[idx]*x[idx])^2)/(2Vi*Vk)))\n",
      "    \n",
      "    #@addConstraint(m, Congestion, \u03b8[f[idx]] - \u03b8[t[idx]] == sense*x[idx]*Plim[idx]) # saturate a line\n",
      "\n",
      "    # @addConstraint(m, Congestion, (Vi^2 + Vk^2 - 2Vi*Vk*sense*cos(\u03b8[i] - \u03b8[k]))/(x[idx]^2) == Plim[idx]^2)\n",
      "\n",
      "    @addConstraint(m, Participation, \u03b1 == (sum(Dp) - sum([\u03c1[i] for i in find(Rp)])) - sum(Gp))\n",
      "    return m, \u03c1, \u03b8, \u03b1, PowerBalance, AngleRef, Congestion, Participation\n",
      "end"
     ],
     "language": "python",
     "metadata": {
      "slideshow": {
       "slide_type": "subslide"
      }
     },
     "outputs": [],
     "prompt_number": null
    },
    {
     "cell_type": "heading",
     "level": 2,
     "metadata": {
      "slideshow": {
       "slide_type": "slide"
      }
     },
     "source": [
      "Upshot"
     ]
    },
    {
     "cell_type": "markdown",
     "metadata": {
      "slideshow": {
       "slide_type": "fragment"
      }
     },
     "source": [
      "* Greater accuracy with negligible additional complexity."
     ]
    },
    {
     "cell_type": "markdown",
     "metadata": {
      "slideshow": {
       "slide_type": "fragment"
      }
     },
     "source": [
      "* Does not require significant changes to code."
     ]
    },
    {
     "cell_type": "heading",
     "level": 2,
     "metadata": {
      "slideshow": {
       "slide_type": "skip"
      }
     },
     "source": [
      "Plotting functions used in this notebook"
     ]
    },
    {
     "cell_type": "markdown",
     "metadata": {
      "slideshow": {
       "slide_type": "skip"
      }
     },
     "source": [
      "Note: this part doesn't appear in the slideshow!"
     ]
    },
    {
     "cell_type": "code",
     "collapsed": false,
     "input": [
      "using PyPlot\n",
      "PyPlot.svg(true)\n",
      "\n",
      "function plotCurrent\u03b8(Vi,Vk,Gik,Bik)\n",
      "    \u03b8i = linspace(-pi/22,pi/22,200)\n",
      "    \u03b8k = linspace(pi/22,-pi/22,200)\n",
      "\n",
      "    Yik = Gik - Bik*1im\n",
      "\n",
      "    Ei = [Vi*e^(\u03b8i[i]*im) for i in 1:length(\u03b8i)]\n",
      "    Ek = [Vk*e^(\u03b8k[i]*im) for i in 1:length(\u03b8k)]\n",
      "\n",
      "    Iik = [(Ei[i] - Ek[i])*Yik for i in 1:length(\u03b8i)]\n",
      "\n",
      "    Icalc = [(Vi^2 + Vk^2 - 2Vi*Vk*cos(\u03b8i[i] - \u03b8k[i]))*(imag(Yik)^2) for i in 1:length(\u03b8i)]\n",
      "\n",
      "    plot(\u03b8i-\u03b8k,[abs(Iik[i])^2 for i in 1:length(Iik)],linewidth=2)\n",
      "    hold = true\n",
      "    plot(\u03b8i - \u03b8k, Icalc,linewidth=2,\"--\")\n",
      "    legend([\"Actual |Iik|^2\",\"Approx. |Iik|^2\"],4,fontsize=10)\n",
      "    xlabel(\"Angle difference (rad)\")\n",
      "    ylabel(\"Current (pu)\")\n",
      "    xlim(-0.3,0.3)\n",
      "    ylim(0,3)\n",
      "\n",
      "end\n",
      "\n",
      "function plotCurrentV(\u03b8i,\u03b8k,Gik,Bik)\n",
      "    Vi = linspace(0.9,1.1,200)\n",
      "    Vk = linspace(1.1,0.9,200)\n",
      "    \n",
      "    Yik = Gik - Bik*1im\n",
      "\n",
      "    Ei = [Vi[i]*e^(\u03b8i*im) for i in 1:length(Vi)]\n",
      "    Ek = [Vk[i]*e^(\u03b8k*im) for i in 1:length(Vk)]\n",
      "\n",
      "    Iik = [(Ei[i] - Ek[i])*Yik for i in 1:length(Vi)]\n",
      "\n",
      "    Icalc = [(Vi[i]^2 + Vk[i]^2 - 2Vi[i]*Vk[i]*cos(\u03b8i - \u03b8k))*(imag(Yik)^2) for i in 1:length(Vi)]\n",
      "\n",
      "    plot(Vi - Vk,[abs(Iik[i])^2 for i in 1:length(Iik)],linewidth=2)\n",
      "    hold = true\n",
      "    plot(Vi - Vk, Icalc,linewidth=2,\"--\")\n",
      "    legend([\"Actual |Iik|^2\",\"Approx. |Iik|^2\"],4,fontsize=10)\n",
      "    xlabel(\"Magnitude difference (pu)\")\n",
      "    ylabel(\"Current (pu)\")\n",
      "    xlim(-0.3,0.3)\n",
      "    ylim(0,3)\n",
      "end\n",
      "\n",
      "function plotCurrentDC(\u03b8i,\u03b8k,Gik,Bik)\n",
      "    Vi = linspace(0.9,1.1,200)\n",
      "    Vk = linspace(1.1,0.9,200)\n",
      "    \n",
      "    Yik = Gik - Bik*1im\n",
      "\n",
      "    Ei = [Vi[i]*e^(\u03b8i*im) for i in 1:length(Vi)]\n",
      "    Ek = [Vk[i]*e^(\u03b8k*im) for i in 1:length(Vk)]\n",
      "\n",
      "    Iik = [(Ei[i] - Ek[i])*Yik for i in 1:length(Vi)]\n",
      "\n",
      "    Icalc = [((\u03b8i - \u03b8k)*imag(Yik))^2 for i in 1:length(Vi)]\n",
      "\n",
      "    plot(Vi - Vk,[abs(Iik[i])^2 for i in 1:length(Iik)],linewidth=2)\n",
      "    hold = true\n",
      "    plot(Vi - Vk, Icalc,linewidth=2,\"--\")\n",
      "    legend([\"Actual |Iik|^2\",\"DC |Iik|^2\"],4,fontsize=10)\n",
      "    xlabel(\"Magnitude difference (pu)\")\n",
      "    ylabel(\"Current (pu)\")\n",
      "    xlim(-0.3,0.3)\n",
      "    ylim(0,3)\n",
      "end"
     ],
     "language": "python",
     "metadata": {
      "slideshow": {
       "slide_type": "skip"
      }
     },
     "outputs": [],
     "prompt_number": null
    }
   ],
   "metadata": {}
  }
 ]
}