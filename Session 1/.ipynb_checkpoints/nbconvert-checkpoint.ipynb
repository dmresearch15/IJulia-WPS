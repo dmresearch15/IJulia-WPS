{
 "cells": [
  {
   "cell_type": "code",
   "execution_count": 1,
   "metadata": {
    "collapsed": false
   },
   "outputs": [
    {
     "name": "stdout",
     "output_type": "stream",
     "text": [
      "[NbConvertApp] Using existing profile dir: u'/home/jkersulis/.ipython/profile_default'\n",
      "[NbConvertApp] Converting notebook ../../interactiveSession/I. Intro to Julia.ipynb to notebook\n",
      "[NbConvertApp] Support files will be in I. Intro to Julia_files/\n",
      "[NbConvertApp] Writing 32337 bytes to I. Intro to Julia.v3.ipynb\n",
      "[NbConvertApp] Converting notebook ../../interactiveSession/II. Instanton project overview.ipynb to notebook\n",
      "[NbConvertApp] Support files will be in II. Instanton project overview_files/\n",
      "[NbConvertApp] Writing 12163 bytes to II. Instanton project overview.v3.ipynb\n",
      "[NbConvertApp] Converting notebook ../../interactiveSession/III. Instanton demo.ipynb to notebook\n",
      "[NbConvertApp] Support files will be in III. Instanton demo_files/\n",
      "[NbConvertApp] Writing 15078 bytes to III. Instanton demo.v3.ipynb\n",
      "[NbConvertApp] Converting notebook ../../interactiveSession/IV. Exploring a new idea.ipynb to notebook\n",
      "[NbConvertApp] Support files will be in IV. Exploring a new idea_files/\n",
      "[NbConvertApp] Writing 24399 bytes to IV. Exploring a new idea.v3.ipynb\n"
     ]
    }
   ],
   "source": [
    "!ipython nbconvert ../../interactiveSession/*.ipynb --to notebook --nbformat 3"
   ]
  }
 ],
 "metadata": {
  "kernelspec": {
   "display_name": "IPython (Python 2)",
   "name": "python2"
  },
  "language_info": {
   "codemirror_mode": {
    "name": "ipython",
    "version": 2
   },
   "file_extension": ".py",
   "mimetype": "text/x-python",
   "name": "python",
   "nbconvert_exporter": "python",
   "pygments_lexer": "ipython2",
   "version": "2.7.6"
  }
 },
 "nbformat": 4,
 "nbformat_minor": 0
}