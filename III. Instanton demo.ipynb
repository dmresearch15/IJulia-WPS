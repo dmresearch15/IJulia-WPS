{
 "cells": [
  {
   "cell_type": "markdown",
   "metadata": {},
   "source": [
    "# Instanton demo"
   ]
  },
  {
   "cell_type": "markdown",
   "metadata": {},
   "source": [
    "The function `instantonAnalysis` handles several varieties of the instanton problem:\n",
    "```julia\n",
    "instantonAnalysis(psData; method=\"lagrange\",\n",
    "                          constraintType=\"activeFlow\",\n",
    "                          genResponse=\"droop\")\n",
    "```\n",
    "\n",
    "The three [keyword arguments][1] determine which instanton analysis method to call.\n",
    "\n",
    "[1]: http://julia.readthedocs.org/en/latest/manual/functions/#keyword-arguments"
   ]
  },
  {
   "cell_type": "markdown",
   "metadata": {},
   "source": [
    "Let's use Ipopt to solve the instanton problem with active power flows and proportional conventional generator response. First, make sure the `julia-code` directory is beneath the current directory:"
   ]
  },
  {
   "cell_type": "code",
   "execution_count": null,
   "metadata": {
    "collapsed": false
   },
   "outputs": [],
   "source": [
    "readdir(\"julia-code\")"
   ]
  },
  {
   "cell_type": "markdown",
   "metadata": {},
   "source": [
    "Now we include Julia code:"
   ]
  },
  {
   "cell_type": "code",
   "execution_count": null,
   "metadata": {
    "collapsed": true
   },
   "outputs": [],
   "source": [
    "# Include Julia code:\n",
    "include(\"julia-code/instanton.jl\")"
   ]
  },
  {
   "cell_type": "markdown",
   "metadata": {},
   "source": [
    "Load power system data from MATLAB .mat file into instance of custom `powerSystemData` type, then perform instanton analysis using JuMP with Ipopt:"
   ]
  },
  {
   "cell_type": "code",
   "execution_count": null,
   "metadata": {
    "collapsed": true
   },
   "outputs": [],
   "source": [
    "psData = psDataLoad()\n",
    "results = instantonAnalysis(psData, \n",
    "            method=\"solver\", \n",
    "            constraintType=\"activeFlow\", \n",
    "            genResponse=\"droop\")"
   ]
  },
  {
   "cell_type": "markdown",
   "metadata": {},
   "source": [
    "To display results, import SVG display capability for the notebook, then call `plotInstantonResults`:"
   ]
  },
  {
   "cell_type": "code",
   "execution_count": null,
   "metadata": {
    "collapsed": false
   },
   "outputs": [],
   "source": [
    "using PyCall\n",
    "@pyimport IPython.display as IPd\n",
    "\n",
    "eventIdx = 1 # index of extreme event to plot\n",
    "name = \"instPlot\"\n",
    "plotInstantonResults(eventIdx,\n",
    "                    psData,\n",
    "                    results,\n",
    "                    plotType=\"graph\",\n",
    "                    plotName=name,\n",
    "                    constraintType=\"currentFlow\") # plot results\n",
    "run(`dot -Tsvg $(name).dot -o $(name).svg`)\n",
    "IPd.SVG(filename=\"$(name).svg\") # show SVG inline"
   ]
  },
  {
   "cell_type": "markdown",
   "metadata": {},
   "source": [
    "## Display Interface"
   ]
  },
  {
   "cell_type": "markdown",
   "metadata": {},
   "source": [
    "I wrote a function called `writeDot`, which accepts the following arguments:\n",
    "\n",
    "    name              a name for the graph and resulting dot file\n",
    "    busIdx            bus names (could be text) in order of busInj\n",
    "    busInj            injection at each bus\n",
    "    renGen            renewable generation at each bus (0 for non-wind buses)\n",
    "    f                 \"from\" node for each line\n",
    "    t                 \"to\" node for each line\n",
    "    lineFlow          flow on each line\n",
    "    lineLim           limit for each line\n",
    "    size              size of graphical output"
   ]
  },
  {
   "cell_type": "markdown",
   "metadata": {},
   "source": [
    "___\n",
    "## What we've covered so far\n",
    "Here we ran Julia code to perform instanton analysis on the IEEE RTS-96 network. We also plotted the results using Graphviz.\n",
    "\n",
    "## Where to next?\n",
    "In the last notebook we will explore an extension to the instanton analysis presented here. Along the way we will see the usefulness of Julia and the IJulia notebook in exploration, prototyping, and presentation."
   ]
  }
 ],
 "metadata": {
  "kernelspec": {
   "display_name": "Julia",
   "name": "julia"
  },
  "language": "Julia",
  "language_info": {
   "name": "julia",
   "version": "0.3.5"
  }
 },
 "nbformat": 4,
 "nbformat_minor": 0
}