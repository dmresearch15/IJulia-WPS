{
 "metadata": {
  "language": "Julia",
  "name": "",
  "signature": "sha256:712e12fc3b04d35fe3c96b6ffcf6347e173b5594db9434b32fc921501b4b3014"
 },
 "nbformat": 3,
 "nbformat_minor": 0,
 "worksheets": [
  {
   "cells": [
    {
     "cell_type": "heading",
     "level": 2,
     "metadata": {},
     "source": [
      "Chance-constrained Unit Commitment"
     ]
    },
    {
     "cell_type": "markdown",
     "metadata": {},
     "source": [
      "In this notebook we will formulate a simple chance-constrained (CC) Unit Commitment (UC) model and implement it in Julia using the JumpChance package. We will observe the performance of this CC UC model on a three-bus example. "
     ]
    },
    {
     "cell_type": "heading",
     "level": 3,
     "metadata": {},
     "source": [
      "Illustrative example"
     ]
    },
    {
     "cell_type": "markdown",
     "metadata": {},
     "source": [
      "In the following notes for the sake of simplicity, we are going to use a three bus example mirroring the interface between Western and Eastern Texas. This example is taken from R. Baldick, \"Wind and Energy Markets: A Case Study of Texas,\" IEEE Systems Journal, vol. 6, pp. 27-34, 2012. \n",
      "    "
     ]
    },
    {
     "cell_type": "markdown",
     "metadata": {},
     "source": [
      "<img src=\"http://i57.tinypic.com/2hn530x.png\">"
     ]
    },
    {
     "cell_type": "markdown",
     "metadata": {},
     "source": [
      "For this example, we set the following characteristics of generators, transmission lines, wind farms and demands:\n",
      "<table style=\"width:25%\">\n",
      "  <tr>\n",
      "    <td></td>\n",
      "    <td>Generator 1</td> \n",
      "    <td>Generator 2</td>\n",
      "  </tr>\n",
      "  <tr>\n",
      "    <td>$g_{min}$, MW</td>\n",
      "    <td>0</td> \n",
      "    <td>300</td> \n",
      "  </tr>\n",
      "  \n",
      "   <tr>\n",
      "    <td>$g_{max}$, MW</td>\n",
      "    <td>1000</td> \n",
      "    <td>1000</td> \n",
      "  </tr>\n",
      "  <tr>\n",
      "    <td>$c^g$, \\$/MWh</td>\n",
      "    <td>50</td> \n",
      "    <td>100</td> \n",
      "  </tr>\n",
      "  <tr>\n",
      "    <td>$c^{g0}$, \\$/MWh</td>\n",
      "    <td>1000</td> \n",
      "    <td>0</td> \n",
      "  </tr> \n",
      "</table>\n",
      "\n",
      "<table style=\"width:25%\">\n",
      "  <tr>\n",
      "    <td></td>\n",
      "    <td>Line 1</td> \n",
      "    <td>Line 2</td>\n",
      "  </tr>\n",
      "  <tr>\n",
      "    <td>$f^{max}$, MW</td>\n",
      "    <td>100</td> \n",
      "    <td>1000</td> \n",
      "  </tr>\n",
      "  <tr>\n",
      "    <td>x, p.u.</td>\n",
      "    <td>0.001</td> \n",
      "    <td>0.001</td> \n",
      "  </tr>\n",
      "</table>\n",
      "\n",
      "<table style=\"width:25%\">\n",
      "  <tr>\n",
      "    <td></td>\n",
      "    <td>Wind farm 1</td> \n",
      "    <td>Wind farm 2</td>\n",
      "  </tr>\n",
      "  <tr>\n",
      "    <td>$w^{f}$, MW</td>\n",
      "    <td>150</td> \n",
      "    <td>50</td> \n",
      "  </tr>\n",
      "  <tr>\n",
      "  <td>$c^{w}$, \\$/MWh</td>\n",
      "    <td>50</td> \n",
      "    <td>50</td> \n",
      "  </tr>\n",
      "</table>\n",
      "\n",
      "<table style=\"width:25%\">\n",
      "  <tr>\n",
      "    <td></td>\n",
      "    <td>Bus 1</td> \n",
      "    <td>Bus 2</td>\n",
      "    <td>Bus 3</td>\n",
      "  </tr>\n",
      "  <tr>\n",
      "    <td>$d$, MW</td>\n",
      "    <td>0</td> \n",
      "    <td>0</td> \n",
      "    <td>15000</td> \n",
      "    \n",
      "  </tr>\n",
      "</table>"
     ]
    },
    {
     "cell_type": "heading",
     "level": 3,
     "metadata": {},
     "source": [
      "CC UC formulation\n"
     ]
    },
    {
     "cell_type": "markdown",
     "metadata": {},
     "source": [
      "We modify the UC formulation presented yesterday by including chance constraints.\n",
      "\n",
      "First, we note that the following constraints remain untouched  as they are used to make decision on binary commitment decisions:\n",
      "\n",
      "To obtain the mathematical formulation of the UC model, we will modify the constraints of the ED model as follows:\n",
      "$$\n",
      "g^{\\min}_{i} \\cdot u_{t,i} \\leq g_{i} \\leq g^{\\max}_{i} \\cdot u_{t,i},\n",
      "$$\n",
      "\n",
      "where $ u_{i} \\in \\{0;1\\}. $ In this constraint, if $ u_{i} = 0$, then $g_{i}  = 0$. On the other hand, if $ u_{i} = 1$, then $g^{max}_{i} \\leq g_{i}   \\leq g^{min}_{i}$.\n",
      "\n",
      "Next, we include chance-constraints accounting for regulation:\n",
      "\n",
      "$$\n",
      "P (g_{i} - \\alpha_i \\cdot \\omega \\geq g^{\\max}) \\leq \\epsilon_g\n",
      "$$\n",
      "\n",
      "$$\n",
      "P (g_{i} - \\alpha_i \\cdot \\omega \\leq g^{\\min}) \\leq  \\epsilon_g\n",
      "$$\n",
      "\n",
      "where $\\alpha$ is a participation factor of generator $i$, $\\omega$ is a deviation of the actual wind generation from its forecast, and $\\epsilon_g$ is a small number. Note that  $\\omega$ is defined as $\\omega \\sim N(0, var(\\omega))$"
     ]
    },
    {
     "cell_type": "heading",
     "level": 3,
     "metadata": {},
     "source": [
      "Implementation of the CC UC model"
     ]
    },
    {
     "cell_type": "markdown",
     "metadata": {},
     "source": [
      "In the following cell we define the packages used, including package JumpChance which is used to solve chance constraints."
     ]
    },
    {
     "cell_type": "code",
     "collapsed": false,
     "input": [
      "using JuMP # used for mathematical programming\n",
      "using Interact # used for enabling the slider\n",
      "using Gadfly # used for plotting \n",
      "using JuMPChance # used for solving chance constraints\n",
      "using Cbc # integer programming solver"
     ],
     "language": "python",
     "metadata": {},
     "outputs": []
    },
    {
     "cell_type": "markdown",
     "metadata": {},
     "source": [
      "Define the input data for the CC UC model:\n"
     ]
    },
    {
     "cell_type": "code",
     "collapsed": false,
     "input": [
      "# Define some input data about the test system\n",
      "# Maximum power output of generators\n",
      "const g_max = [1000 1000]\n",
      "# Minimum power output of generators\n",
      "const g_min = [0 300]\n",
      "# Incremental cost of generators \n",
      "const c_g = [50 100]\n",
      "# Fixed cost of generators\n",
      "const c_g0 = [1000 0]\n",
      "# Incremental cost of wind generators\n",
      "const c_w = 50\n",
      "# Total demand\n",
      "const d = 1500\n",
      "# Wind forecast\n",
      "const w_f = 200\n",
      "# Variance of wind power\n",
      "const w_var = 20\n",
      "# Epsilon threshold\n",
      "const \u03f5_cc =0.05"
     ],
     "language": "python",
     "metadata": {},
     "outputs": []
    },
    {
     "cell_type": "markdown",
     "metadata": {},
     "source": [
      "The function solving the CC UC model:"
     ]
    },
    {
     "cell_type": "code",
     "collapsed": false,
     "input": [
      "function solve_ccuc (g_max, g_min, c_g, c_w, d, w_f,w_var, \u03f5_cc)\n",
      "    #Define the unit commitment (UC) model\n",
      "    uc=ChanceModel(solver=CbcSolver()) \n",
      "    \n",
      "    # Define decision variables    \n",
      "    @defVar(uc, 0 <= g[i=1:2] <= g_max[i]) # power output of generators\n",
      "    @defVar(uc, u[i=1:2], Bin) # Binary status of generators\n",
      "    @defVar(uc, 0 <= w  <= w_f ) # wind power injection\n",
      "    @defVar(uc, \u03b1[1:2] >= 0) # proportional response coefficients\n",
      "    \n",
      "    @defIndepNormal(uc,\u03c9, mean=0, var=w_var)\n",
      "\n",
      "    # Define the objective function\n",
      "    @setObjective(uc,Min,sum{c_g[i] * g[i] + c_g0[i]*u[i],i=1:2}+ c_w * w)\n",
      "    \n",
      "    @addConstraint(uc, sum(\u03b1) == 1)\n",
      "\n",
      "    # Define the constraint on the maximum and minimum power output of each generator\n",
      "    for i in 1:2\n",
      "        @addConstraint(uc,  g[i] <= g_max[i] * u[i]) #maximum\n",
      "        @addConstraint(uc,  g[i] >= g_min[i] * u[i]) #minimum\n",
      "    end\n",
      "    \n",
      "    # Define chance constraints on the power output of each generator in response to wind fluctuations\n",
      "    for i in 1:2\n",
      "        addConstraint(uc, g[i]-\u03b1[i]*\u03c9 >= g_max[i], with_probability=\u03f5_cc)\n",
      "        addConstraint(uc, g[i]-\u03b1[i]*\u03c9 <= g_min[i], with_probability=\u03f5_cc)\n",
      "    end\n",
      "\n",
      "    # Define the constraint on the wind power injection\n",
      "    @addConstraint(uc, w <= w_f)\n",
      "\n",
      "    # Define the power balance constraint\n",
      "    @addConstraint(uc, sum{g[i], i=1:2} + w == d)\n",
      "\n",
      "    # Solve statement\n",
      "    status = solvechance(uc, method=:Cuts)\n",
      "    \n",
      "    return status, getValue(g)[:], getValue(w), w_f-getValue(w), getValue(u)[:], getValue(\u03b1)[:], getObjectiveValue(uc)\n",
      "end\n",
      "#\n",
      "# Solve the economic dispatch problem\n",
      "status,g_opt,w_opt,ws_opt,u_opt,\u03b1,obj=solve_ccuc (g_max, g_min, c_g, c_w, d, w_f, 20, 0.05)\n",
      "\n",
      "  \n",
      "println(\"\\n\")\n",
      "println(\"Dispatch of Generators: \", g_opt, \" MW\")\n",
      "println(\"Commitments of Generators: \", u_opt)\n",
      "println(\"Dispatch of Wind: \", w_opt, \" MW\")\n",
      "println(\"Wind spillage: \", w_f-w_opt, \" MW\") \n",
      "println(\"Proportional response coefficients: \", \u03b1)\n",
      "println(\"\\n\")\n",
      "println(\"Total cost: \", obj, \"\\$\")  "
     ],
     "language": "python",
     "metadata": {},
     "outputs": []
    },
    {
     "cell_type": "markdown",
     "metadata": {},
     "source": [
      "In the following cell we introduce the manipulator, which can adjust $var(\\omega)$, $\\epsilon_g$, and $d$. While adjusting these parameters, we observe their impact of the cost and dispatch decisions:"
     ]
    },
    {
     "cell_type": "code",
     "collapsed": false,
     "input": [
      "@manipulate for w_var_scale = 0.01:0.01:10, \u03f5_cc_scale = 0.01:0.01:10, d_scale = 0.25:0.01:2.0\n",
      "    \n",
      "    status,g_opt,w_opt,ws_opt,u_opt,\u03b1,obj=solve_ccuc (g_max, g_min, c_g, c_w, d_scale*d, w_f, w_var_scale * w_var, \u03f5_cc_scale*\u03f5_cc)\n",
      "    html(\"Dispatch of generators: $g_opt<br>\"*\n",
      "    \"Commitment of generators: $u_opt<br>\"*\n",
      "    \"Dispatch of wind: $w_opt<br>\"*\n",
      "    \"Proportional response coefficients: $\u03b1<br>\"*\n",
      "    \"Total cost: $obj\")\n",
      "\n",
      "    \n",
      "\n",
      "end\n"
     ],
     "language": "python",
     "metadata": {},
     "outputs": []
    },
    {
     "cell_type": "heading",
     "level": 2,
     "metadata": {},
     "source": [
      "Practical exercise"
     ]
    },
    {
     "cell_type": "markdown",
     "metadata": {},
     "source": [
      "After discussing the implementation of the CC UC and the usage of the JuMPChance package, we believe you can try to finish the following exercise:\n",
      "\n",
      "<li> Introduce a loop adjusting the minimum power outputs of generators ($g^{min}$) inside of the manipulators used in the CC UC model above.</li>\n",
      "\n",
      "<li> Make interactive plots for dispatch ($g_i$)/commitment ($u_i$) decisions, wind power generation ($w$) and participation factors ($\\alpha_i$).</li>\n",
      "\n",
      "<li> Make conclusions on how ($g^{min}$) affects the CC UC solution under different $var(\\omega)$, $\\epsilon_g$, and $d$</li>\n",
      "\n",
      "\n",
      "\n",
      "\n",
      "\n",
      "\n",
      "\n"
     ]
    }
   ],
   "metadata": {}
  }
 ]
}