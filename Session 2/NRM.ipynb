{
 "metadata": {
  "language": "Julia",
  "name": "",
  "signature": "sha256:2f72ccd4d28144a039636c92d2e76ffc6ea433405c8fb4dd8acd2dd07d65670b"
 },
 "nbformat": 3,
 "nbformat_minor": 0,
 "worksheets": [
  {
   "cells": [
    {
     "cell_type": "markdown",
     "metadata": {},
     "source": [
      "# Network Revenue Management\n",
      "\n",
      "![Imgur](http://i.imgur.com/jeGwWET.png)\n",
      "\n",
      "The three origin-destination pairs are BOS-MDW, MDW-SFO, or BOS-SFO via MDW. Each O-D pair has a \"regular\" and \"discount\" fare class. The data is\n",
      "\n",
      "```\n",
      "PLANE CAPACITY: 166\n",
      "\n",
      "BOS-MDW\n",
      "        Regular  Discount\n",
      "Price:  428      190\n",
      "Demand: 80       120\n",
      "\n",
      "BOS-SFO\n",
      "        Regular  Discount\n",
      "Price:  642      224\n",
      "Demand: 75       100\n",
      "\n",
      "MDW-SFO\n",
      "        Regular  Discount\n",
      "Price:  512      190\n",
      "Demand: 60       110\n",
      "```\n",
      "\n",
      "Let's load JuMP first"
     ]
    },
    {
     "cell_type": "code",
     "collapsed": false,
     "input": [
      "using JuMP"
     ],
     "language": "python",
     "metadata": {},
     "outputs": []
    },
    {
     "cell_type": "markdown",
     "metadata": {},
     "source": [
      "## Model\n",
      "Now we need to create a `Model`. A `Model` is an object that has associated variables and constraints. We can also pick and customize different solvers to use with the model, but we won't need to do that today. You can read the JuMP manual to learn more about changing solvers. If you don't specify a solver, JuMP picks a suitable installed solver."
     ]
    },
    {
     "cell_type": "code",
     "collapsed": false,
     "input": [
      "nrm = Model()"
     ],
     "language": "python",
     "metadata": {},
     "outputs": []
    },
    {
     "cell_type": "markdown",
     "metadata": {},
     "source": [
      "## Variables\n",
      "Now we can create our variables, in the optimization sense. Variables have a name, bounds, and type. For this problem, we need six continuous variables, each with a lower and upper bound on their value."
     ]
    },
    {
     "cell_type": "code",
     "collapsed": false,
     "input": [
      "@defVar(nrm, 0 <= BOStoMDW_R <= 80)\n",
      "@defVar(nrm, 0 <= BOStoMDW_D <= 120)\n",
      "@defVar(nrm, 0 <= BOStoSFO_R <= 75)\n",
      "@defVar(nrm, 0 <= BOStoSFO_D <= 100)\n",
      "@defVar(nrm, 0 <= MDWtoSFO_R <= 60)\n",
      "@defVar(nrm, 0 <= MDWtoSFO_D <= 110)"
     ],
     "language": "python",
     "metadata": {},
     "outputs": []
    },
    {
     "cell_type": "code",
     "collapsed": false,
     "input": [
      "nrm"
     ],
     "language": "python",
     "metadata": {},
     "outputs": []
    },
    {
     "cell_type": "markdown",
     "metadata": {},
     "source": [
      "## Objective\n",
      "The objective is to maximize the revenue. We need to use `@setObjective`, which takes three arguments: the model, the sense (`Max` or `Min`), and the expression."
     ]
    },
    {
     "cell_type": "code",
     "collapsed": false,
     "input": [
      "@setObjective(nrm, Max, 428*BOStoMDW_R + 190*BOStoMDW_D +\n",
      "                        642*BOStoSFO_R + 224*BOStoSFO_D +\n",
      "                        512*MDWtoSFO_R + 190*MDWtoSFO_D)"
     ],
     "language": "python",
     "metadata": {},
     "outputs": []
    },
    {
     "cell_type": "markdown",
     "metadata": {},
     "source": [
      "## Constraints\n",
      "We have two constraints: that the number of people on each flight is less than the capacity of the planes. We add constraints with `@addConstraint`, which takes two arguments: the model, and an expression with an inequality in it: `<=`, `==`, `>=`"
     ]
    },
    {
     "cell_type": "code",
     "collapsed": false,
     "input": [
      "@addConstraint(nrm, BOStoMDW_R + BOStoMDW_D + \n",
      "                    BOStoSFO_R + BOStoSFO_D <= 166)"
     ],
     "language": "python",
     "metadata": {},
     "outputs": []
    },
    {
     "cell_type": "code",
     "collapsed": false,
     "input": [
      "@addConstraint(nrm, MDWtoSFO_R + MDWtoSFO_D + \n",
      "                    BOStoSFO_R + BOStoSFO_D <= 166)"
     ],
     "language": "python",
     "metadata": {},
     "outputs": []
    },
    {
     "cell_type": "markdown",
     "metadata": {},
     "source": [
      "## Solve\n",
      "The easy part! Lets check out the finished model before solving it. We didn't specify a solver before, but JuMP knows we have the LP solve `Clp` installed, so it will use that."
     ]
    },
    {
     "cell_type": "code",
     "collapsed": false,
     "input": [
      "nrm"
     ],
     "language": "python",
     "metadata": {},
     "outputs": []
    },
    {
     "cell_type": "code",
     "collapsed": false,
     "input": [
      "solve(nrm)"
     ],
     "language": "python",
     "metadata": {},
     "outputs": []
    },
    {
     "cell_type": "markdown",
     "metadata": {},
     "source": [
      "## Inspect the solution\n",
      "We can use `getValue()` to inspect the value of solutions"
     ]
    },
    {
     "cell_type": "code",
     "collapsed": false,
     "input": [
      "getValue(BOStoMDW_R)"
     ],
     "language": "python",
     "metadata": {},
     "outputs": []
    },
    {
     "cell_type": "code",
     "collapsed": false,
     "input": [
      "getValue(BOStoMDW_D)"
     ],
     "language": "python",
     "metadata": {},
     "outputs": []
    },
    {
     "cell_type": "code",
     "collapsed": false,
     "input": [
      "getObjectiveValue(nrm)"
     ],
     "language": "python",
     "metadata": {},
     "outputs": []
    },
    {
     "cell_type": "markdown",
     "metadata": {},
     "source": [
      "## Generalizing the NRM\n",
      "\n",
      "This model was simple enough, but what happens when we add more origins and destinations?\n",
      "\n",
      "Hard-coding every variable would be painful - it'd be better to *index* the variables. Lets consider a generalized problem where there are flights in both directions. We'll also add YYZ - Toronto!\n",
      "\n",
      "We are going to generate random data - if you don't understand all of this, thats OK."
     ]
    },
    {
     "cell_type": "code",
     "collapsed": false,
     "input": [
      "srand(1988)  # Set the random seed to ensure we always\n",
      "             # get the same stream of random numbers\n",
      "airports = [:BOS, :MDW, :SFO, :YYZ]  # An array of symbols\n",
      "num_airport = length(airports)\n",
      "classes = [:REG, :DIS]\n",
      "demand = Dict()  # Dictionaries: a mapping between...\n",
      "prices = Dict()  # ... keys and values\n",
      "# Generate a demand and price for each pair of airports\n",
      "# We'll generate data for the BOS-BOS, SFO-SFO \n",
      "# combination but it won't appear in our model\n",
      "for origin in airports\n",
      "    for dest in airports\n",
      "        demand[(origin,dest,:REG)] = rand(50:90)    # Random integer between 50 and 90\n",
      "        demand[(origin,dest,:DIS)] = rand(100:130)\n",
      "        prices[(origin,dest,:REG)] = rand(400:700)\n",
      "        prices[(origin,dest,:DIS)] = rand(150:300)\n",
      "    end\n",
      "end\n",
      "# Capacity of the plane\n",
      "plane_cap = rand(150:200)\n",
      "@show demand[(:BOS,:SFO,:REG)]"
     ],
     "language": "python",
     "metadata": {},
     "outputs": []
    },
    {
     "cell_type": "code",
     "collapsed": false,
     "input": [
      "nrm2 = Model()\n",
      "# Create a variable indexed by 3 things:\n",
      "# * Origin\n",
      "# * Destination\n",
      "# * Class\n",
      "# And set the upper bound for each variable differently\n",
      "# by looking up the correct demand in a dictionary\n",
      "@defVar(nrm2, 0 <= x[o=airports,d=airports,c=classes] <= demand[(o,d,c)])"
     ],
     "language": "python",
     "metadata": {},
     "outputs": []
    },
    {
     "cell_type": "code",
     "collapsed": false,
     "input": [
      "@setObjective(nrm2, Max, sum{prices[(o,d,c)]*x[o,d,c], \n",
      "    o in airports, d in airports, c in classes; o != d})"
     ],
     "language": "python",
     "metadata": {},
     "outputs": []
    },
    {
     "cell_type": "code",
     "collapsed": false,
     "input": [
      "# Flights from hub to outer\n",
      "for d in airports\n",
      "    if d == :MDW\n",
      "        continue\n",
      "    end\n",
      "    println(\"Adding constraint for hub (MDW) to $d\")\n",
      "    @addConstraint(nrm2, \n",
      "        sum{x[o,d,c],o in airports,c in classes; o!=d} <= plane_cap)\n",
      "end"
     ],
     "language": "python",
     "metadata": {},
     "outputs": []
    },
    {
     "cell_type": "code",
     "collapsed": false,
     "input": [
      "nrm2"
     ],
     "language": "python",
     "metadata": {},
     "outputs": []
    },
    {
     "cell_type": "code",
     "collapsed": false,
     "input": [
      "# Flights from outer to hub\n",
      "for o in airports\n",
      "    if o == :MDW\n",
      "        continue\n",
      "    end\n",
      "    println(\"Adding constraint for $o to hub (MDW)\")\n",
      "    @addConstraint(nrm2, \n",
      "        sum{x[o,d,c],d in airports,c in classes; o!=d} <= plane_cap)\n",
      "end"
     ],
     "language": "python",
     "metadata": {},
     "outputs": []
    },
    {
     "cell_type": "code",
     "collapsed": false,
     "input": [
      "nrm2"
     ],
     "language": "python",
     "metadata": {},
     "outputs": []
    },
    {
     "cell_type": "code",
     "collapsed": false,
     "input": [
      "solve(nrm2)"
     ],
     "language": "python",
     "metadata": {},
     "outputs": []
    },
    {
     "cell_type": "code",
     "collapsed": false,
     "input": [
      "getValue(x)"
     ],
     "language": "python",
     "metadata": {},
     "outputs": []
    },
    {
     "cell_type": "code",
     "collapsed": false,
     "input": [],
     "language": "python",
     "metadata": {},
     "outputs": []
    }
   ],
   "metadata": {}
  }
 ]
}