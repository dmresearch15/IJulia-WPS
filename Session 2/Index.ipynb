{
 "metadata": {
  "language": "Julia",
  "name": "",
  "signature": "sha256:d67c53aac49c2caf355c9af2940288c32e8c8845da3d4593d61792ba527bf3c9"
 },
 "nbformat": 3,
 "nbformat_minor": 0,
 "worksheets": [
  {
   "cells": [
    {
     "cell_type": "heading",
     "level": 2,
     "metadata": {},
     "source": [
      "Index for Session 2 notebooks"
     ]
    },
    {
     "cell_type": "markdown",
     "metadata": {},
     "source": [
      "* [Network Revenue Management](NRM.ipynb)\n",
      "  - Introduction to JuMP syntax\n",
      "* [Economic Dispatch and Unit Commitment](ed_uc.ipynb)\n",
      "  - Economic Dispatch and Unit Commitment examples on a toy system\n",
      "  - Interactive sensitivity analysis and plotting\n",
      "* [DC-OPF](DCOPF.ipynb)\n",
      "  - DC-OPF formulation with network visualization\n",
      "* [IEEE RTS system](ieee_rts.ipynb)\n",
      "  - Larger scale system"
     ]
    }
   ],
   "metadata": {}
  }
 ]
}