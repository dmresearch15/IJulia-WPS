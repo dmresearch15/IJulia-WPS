{
 "metadata": {
  "kernelspec": {
   "display_name": "Julia",
   "name": "julia"
  },
  "language_info": {
   "name": "julia",
   "version": "0.3.3"
  },
  "name": ""
 },
 "nbformat": 3,
 "nbformat_minor": 0,
 "worksheets": [
  {
   "cells": [
    {
     "cell_type": "markdown",
     "metadata": {},
     "source": [
      "## This talk\n",
      "\n",
      "What I want to accomplish in this talk:\n",
      "\n",
      "* Convince you that Julia is a highly capable and clean technical computing language\n",
      "* Show, by example, the usefulness of the IJulia notebook.\n",
      "* Familiarize you with Julia and the IJulia notebook.\n",
      "* Show how easy it is to start using these tools regardless of background: MATLAB, Python, C++."
     ]
    },
    {
     "cell_type": "markdown",
     "metadata": {},
     "source": [
      "Six months ago I was running MATLAB on Windows with a student license. The more I read about research workflows, the more convinced I became that there were better ways to go. This past summer I decided to explore many of the tools I was reading about, and it transformed the way I do my research work. Today I run Python and Julia on Ubuntu Linux. Here's why.\n",
      "\n",
      "\n",
      "## Three reasons I decided to learn Python\n",
      "1. MATLAB licenses are awkward. Though it seemed legitimate to use my student license for research work, I never quite felt at ease. **I grew tired of removing the student version watermark from all my charts.** As someone who hopes to start a company one day, I also do not like the idea of being perpetually **tied to a proprietary platform** that will become significantly more expensive when I graduate.\n",
      "2. Python has many advocates in the scientific community. I first discovered this during discussions with Dr. Revzen at the University of Michigan, but I have since found many Python advocates by watching  talks and reading online.\n",
      "3. I want to see under the hood. MATLAB is opaque. Python is open source. Nearly every Python project encourages community contribution. Open source computing has exploded in the last few years, and tools like the [IPython notebook][5] make it easier than ever to do research computing. **It is a very good time to switch**.\n",
      "\n",
      "## Three reasons I switched to Julia\n",
      "1. The [JuMP][8] Julia package effectively replaces the thirty-year-old [AMPL modeling language][3]. I use JuMP macros to build QP models and pass them to any capable solver. JuMP is actively developed: when a few researchers in my area requested chance constraints as a feature, the JuMP team added it in. When my project progresses into chance-constrained optimization in the future, JuMP will be ready to go.\n",
      "2. [Julia is fast][2], the Germany to MATLAB's Brazil.\n",
      "3. Julia syntax is natural for MATLAB users. It supports `[a b; c d]` matrix concatenation. It has many MATLAB functions like sort, setdiff, unique, sparse, and even spy. When you tell it to invert a matrix (using the same A\\B syntax you're used to), it [figures out the best algorithm][1] to use so you don't have to think about it. The bottom line is that you can begin writing Julia code using MATLAB style and gradually mix in Julia tricks as you go along.\n",
      "\n",
      "## Reasons I switched to Linux\n",
      "To be addressed later on.\n",
      "\n",
      "## My experience so far\n",
      "Although learning any new language is rocky at first, I have already found myself doing things I could not have done with my former tools. One example is the SVG file attached here, which illustrates the RTS 96 operating under an instanton condition (open it with a browser and hover over any text label to see more embedded data). I generated this illustration using Julia code and [Graphviz][4]; if I want to illustrate any other operating condition, all I need to do is pass new data to a function I wrote; I can do this without leaving my Julia workspace.\n",
      "\n",
      "Speaking of my workspace, I must mention the [IPython notebook][5], a new and rapidly evolving interactive environment for Python and Julia. When I first contemplated switching from MATLAB, I was intimidated by the command line. Python's command line has no comfy development environment, no side-by-side script and output, and no variable workspace. How could I give those things up? For me, the IPython notebook was the answer. IPython notebooks live in the browser and consist of cells. Each cell can be a header, a markdown cell (which can include $\\LaTeX$ equations, bullet lists, and tables), or a code cell. When you write and execute a code cell, its output (whether it be a matrix, some text, or a chart) is displayed inline, so the notebook maintains a nice flow. When you are finished creating a notebook, you can [export it in a variety of formats][6] including HTML and $\\LaTeX$.\n",
      "\n",
      "There are [a bunch of example notebooks][7] that demonstrate what you can do; they are a great way to learn. I have attached one of my own notebooks in HTML form. It is structured as follows:\n",
      "\n",
      "* First, I formulate an optimization problem in $\\LaTeX$ (try right-clicking on an equation to pull out the source).\n",
      "* Next, I import data from a MATLAB workspace file (I used the code you gave me to get all system data into a MATLAB workspace, then used Julia's MAT package to convert the MATLAB workspace to a set of Julia variables).\n",
      "* I use JuMP to solve the QP.\n",
      "* I perform a series of checks to make sure the output makes sense.\n",
      "* Finally, I plot the result using two different plotting packages (I am still trying to decide which of these I prefer).\n",
      "\n",
      "[1]: http://julia.readthedocs.org/en/latest/stdlib/linalg/\n",
      "[2]: http://julialang.org/benchmarks/\n",
      "[3]: http://en.wikipedia.org/wiki/AMPL\n",
      "[4]: http://www.graphviz.org/\n",
      "[5]: http://ipython.org/notebook.html\n",
      "[6]: http://ipython.org/ipython-doc/rel-1.0.0/interactive/nbconvert.html\n",
      "[7]: http://nbviewer.ipython.org/\n",
      "[8]: http://jump.readthedocs.org/en/release-0.6/"
     ]
    },
    {
     "cell_type": "markdown",
     "metadata": {},
     "source": [
      "## Navigating IJulia notebooks\n",
      "_Click `Help -> User Interface Tour`_\n",
      "* Each notebook is composed of cells\n",
      "* Two modes:\n",
      "    * Command Mode for creating or deleting cells, saving or renaming the notebook, and other application-level functions\n",
      "    * Edit Mode for manipulating text in individual cells\n",
      "* Create a cell by:\n",
      "    * Clicking `Insert -> Insert Cell`\n",
      "    * Pressing `a` or `b` in Command Mode\n",
      "    * Pressing `Alt+Enter` in Edit Mode\n",
      "* Delete a cell by:\n",
      "    * Clicking `Edit -> Delete Cell`\n",
      "    * Pressing `dd`\n",
      "\n",
      "Other functions you expect:\n",
      "* Undo last text edit with `Ctrl+z` in Edit Mode\n",
      "* Undo last cell manipulation with `z` in Command Mode\n",
      "* Save notebook with `Ctrl+s` in Edit Mode\n",
      "* Save notebook with `s` in Command Mode\n",
      "\n",
      "## Navigating Julia\n",
      "\n",
      "|            Resource           |                                                Description                                                |\n",
      "|-------------------------------|-----------------------------------------------------------------------------------------------------------|\n",
      "| [Julia By Example][7]         | Nicely categorized series of code snippets                                                                |\n",
      "| [Learn Julia in Y Minutes][2] | Broad, concise overview of Julia commands                                                                 |\n",
      "| [Matrix Cheatsheet][3]        | Translation between MATLAB/Octave, Python/NumPy, R, and Julia                                             |\n",
      "| [Julia community page][8]     | Links to mailing lists, various projects, and local Julia communities                                     |\n",
      "| [Julia Docs][1]               | Official documentation for the Julia Language                                                             |\n",
      "| [JuliaCon][5]                 | More than 20 talks on a broad range of subjects, many with links to slides and other supporting materials |\n",
      "| [Julia Bloggers][6]           | Blog aggregator that gathers Julia-related blog posts from several writers                                |\n",
      "\n",
      "\n",
      "[1]: http://docs.julialang.org/en/release-0.3/\n",
      "[2]: http://learnxinyminutes.com/docs/julia/\n",
      "[3]: http://sebastianraschka.com/Articles/2014_matrix_cheatsheet_table.html\n",
      "[5]: http://juliacon.org/\n",
      "[6]: http://www.juliabloggers.com/\n",
      "[7]: http://www.scolvin.com/juliabyexample/\n",
      "[8]: http://julialang.org/community/\n",
      "[4]: http://julia.readthedocs.org/en/latest/stdlib/base/"
     ]
    },
    {
     "cell_type": "code",
     "collapsed": false,
     "input": [
      "help(print)"
     ],
     "language": "python",
     "metadata": {},
     "outputs": [],
     "prompt_number": null
    },
    {
     "cell_type": "code",
     "collapsed": false,
     "input": [
      "?print"
     ],
     "language": "python",
     "metadata": {},
     "outputs": [],
     "prompt_number": null
    },
    {
     "cell_type": "markdown",
     "metadata": {},
     "source": [
      "## Coming from MATLAB, you keep:\n",
      "* Simple matrix entry/manipulation syntax\n",
      "* Semicolon for supressing output in notebook or REPL"
     ]
    },
    {
     "cell_type": "code",
     "collapsed": false,
     "input": [
      "b = [1 2; 3 4];\n",
      "c = [5 6];\n",
      "[b; c]"
     ],
     "language": "python",
     "metadata": {},
     "outputs": [],
     "prompt_number": null
    },
    {
     "cell_type": "markdown",
     "metadata": {},
     "source": [
      "* Many commonly used functions in `Base` (always available)"
     ]
    },
    {
     "cell_type": "code",
     "collapsed": false,
     "input": [
      "A = rand(3, 2)\n",
      "display(A)\n",
      "U, S, V = svd(A);"
     ],
     "language": "python",
     "metadata": {},
     "outputs": [],
     "prompt_number": null
    },
    {
     "cell_type": "code",
     "collapsed": false,
     "input": [
      "U*diagm(S)*V"
     ],
     "language": "python",
     "metadata": {},
     "outputs": [],
     "prompt_number": null
    },
    {
     "cell_type": "code",
     "collapsed": false,
     "input": [
      "?sin"
     ],
     "language": "python",
     "metadata": {},
     "outputs": [],
     "prompt_number": null
    },
    {
     "cell_type": "code",
     "collapsed": false,
     "input": [
      "?sind"
     ],
     "language": "python",
     "metadata": {},
     "outputs": [],
     "prompt_number": null
    },
    {
     "cell_type": "code",
     "collapsed": false,
     "input": [
      "sin(\u03c0/2)"
     ],
     "language": "python",
     "metadata": {},
     "outputs": [],
     "prompt_number": null
    },
    {
     "cell_type": "code",
     "collapsed": false,
     "input": [
      "?randn"
     ],
     "language": "python",
     "metadata": {},
     "outputs": [],
     "prompt_number": null
    },
    {
     "cell_type": "code",
     "collapsed": false,
     "input": [
      "t = 1:10;\n",
      "t[t.<5]"
     ],
     "language": "python",
     "metadata": {},
     "outputs": [],
     "prompt_number": null
    },
    {
     "cell_type": "markdown",
     "metadata": {},
     "source": [
      "* Ability to read and write `.mat` files"
     ]
    },
    {
     "cell_type": "code",
     "collapsed": false,
     "input": [
      "Pkg.add(\"MAT\")\n",
      "using MAT"
     ],
     "language": "python",
     "metadata": {},
     "outputs": [],
     "prompt_number": null
    },
    {
     "cell_type": "code",
     "collapsed": false,
     "input": [
      "matwrite(\"test.mat\", {\n",
      "    \"a1\" => sin(1),\n",
      "    \"a2\" => [1 2 3]\n",
      "})"
     ],
     "language": "python",
     "metadata": {},
     "outputs": [],
     "prompt_number": null
    },
    {
     "cell_type": "code",
     "collapsed": false,
     "input": [
      "vars = matread(\"test.mat\")\n",
      "println(vars[\"a1\"])\n",
      "println(vars[\"a2\"])"
     ],
     "language": "python",
     "metadata": {},
     "outputs": [],
     "prompt_number": null
    },
    {
     "cell_type": "markdown",
     "metadata": {},
     "source": [
      "**Just remember:**\n",
      "* Index arrays with **square brackets instead of parentheses**.\n",
      "* Be aware of **types**:"
     ]
    },
    {
     "cell_type": "code",
     "collapsed": false,
     "input": [
      "typeof(1)"
     ],
     "language": "python",
     "metadata": {},
     "outputs": [],
     "prompt_number": null
    },
    {
     "cell_type": "code",
     "collapsed": false,
     "input": [
      "typeof(1.0)"
     ],
     "language": "python",
     "metadata": {},
     "outputs": [],
     "prompt_number": null
    },
    {
     "cell_type": "markdown",
     "metadata": {},
     "source": [
      "## Coming from Python, you keep:\n",
      "* [Package system][pkgSys]\n",
      "* [List comprehension][listComp]\n",
      "\n",
      "[pkgSys]: http://pkg.julialang.org/\n",
      "[listComp]: http://julia.readthedocs.org/en/latest/manual/arrays/#comprehensions"
     ]
    },
    {
     "cell_type": "code",
     "collapsed": false,
     "input": [
      "Pkg.add(\"Calculus\")\n",
      "using Calculus\n",
      "derivative(sin, \u03c0/3)"
     ],
     "language": "python",
     "metadata": {},
     "outputs": [],
     "prompt_number": null
    },
    {
     "cell_type": "code",
     "collapsed": false,
     "input": [
      "[(x, x^2, x + y*im) for x in 1:3, y in [2 4]]"
     ],
     "language": "python",
     "metadata": {},
     "outputs": [],
     "prompt_number": null
    },
    {
     "cell_type": "markdown",
     "metadata": {},
     "source": [
      "## Plotting\n",
      "There are several Julia plotting packages. \n",
      "\n",
      "* [PyPlot.jl][4] is a Julia interface to Matplotlib, and should feel familiar to both MATLAB and Python users.\n",
      "* [Winston][3] and [Gadfly][1] are written entirely in Julia.  Winston is for general-purpose 2D plotting, and Gadfly concentrates on statistical graphics.\n",
      "* [Plotly supports Julia][2].\n",
      "\n",
      "From PyPlot documentation:\n",
      "\n",
      "[1]: https://github.com/dcjones/Gadfly.jl\n",
      "[2]: https://plot.ly/julia/\n",
      "[3]: https://github.com/nolta/Winston.jl\n",
      "[4]: https://github.com/stevengj/PyPlot.jl"
     ]
    },
    {
     "cell_type": "code",
     "collapsed": false,
     "input": [
      "Pkg.add(\"PyPlot\")"
     ],
     "language": "python",
     "metadata": {},
     "outputs": [],
     "prompt_number": null
    },
    {
     "cell_type": "code",
     "collapsed": false,
     "input": [
      "using PyPlot\n",
      "x = linspace(0,2*pi,1000); y = sin(3*x + 4*cos(2*x));\n",
      "plot(x, y, color=\"red\", linewidth=2.0, linestyle=\"--\")\n",
      "title(\"A sinusoidally modulated sinusoid\")"
     ],
     "language": "python",
     "metadata": {},
     "outputs": [],
     "prompt_number": null
    },
    {
     "cell_type": "heading",
     "level": 2,
     "metadata": {},
     "source": []
    },
    {
     "cell_type": "markdown",
     "metadata": {},
     "source": [
      "## Instanton Project\n",
      "Wind energy plays an increasingly important role in modern transmission networks. Unfortunately, wind forecasts are not as reliable as we would like. A system operator may plan for one wind pattern only to be confronted with a significantly different one. Should operators worry about wind fluctuations? How can wind fluctuations affect a transmission network?\n",
      "\n",
      "To understand wind-related transmission grid vulnerability, we "
     ]
    }
   ],
   "metadata": {}
  }
 ]
}